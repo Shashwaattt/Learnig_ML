{
 "cells": [
  {
   "cell_type": "code",
   "execution_count": null,
   "id": "97433516",
   "metadata": {
    "scrolled": true
   },
   "outputs": [],
   "source": [
    "import random\n",
    "a=random.randint(1,100)\n",
    "n=int(input(\"Guess a No. between 1 to 100 : \")) \n",
    "while n!=a:\n",
    "    if n<a:\n",
    "        print(\"You Gussed A Smaller no.\")\n",
    "        b=int(input(\"Guess again\"))\n",
    "        n=b\n",
    "    elif n>a:\n",
    "        print(\"You Gussed A Bigger no.\")\n",
    "        c=int(input(\"Guess again\"))\n",
    "        n=c\n",
    "if n==a:\n",
    "    print(\"You Gussed right No.\")    "
   ]
  },
  {
   "cell_type": "code",
   "execution_count": null,
   "id": "86b5b90e",
   "metadata": {},
   "outputs": [],
   "source": []
  },
  {
   "cell_type": "code",
   "execution_count": null,
   "id": "ca5152c2",
   "metadata": {},
   "outputs": [],
   "source": []
  },
  {
   "cell_type": "code",
   "execution_count": null,
   "id": "8f40a6ec",
   "metadata": {},
   "outputs": [],
   "source": []
  }
 ],
 "metadata": {
  "kernelspec": {
   "display_name": "Python 3 (ipykernel)",
   "language": "python",
   "name": "python3"
  },
  "language_info": {
   "codemirror_mode": {
    "name": "ipython",
    "version": 3
   },
   "file_extension": ".py",
   "mimetype": "text/x-python",
   "name": "python",
   "nbconvert_exporter": "python",
   "pygments_lexer": "ipython3",
   "version": "3.11.5"
  }
 },
 "nbformat": 4,
 "nbformat_minor": 5
}
