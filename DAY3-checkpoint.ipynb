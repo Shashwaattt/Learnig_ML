{
 "cells": [
  {
   "cell_type": "code",
   "execution_count": null,
   "id": "fb18ba87",
   "metadata": {},
   "outputs": [],
   "source": [
    "a=int(input(\"enter no. a\"))\n",
    "b=int(input(\"enter no b\"))\n",
    "if a>b:\n",
    "  print(\"a is larger\")\n",
    "else:\n",
    "  print(\"b is larger\")"
   ]
  },
  {
   "cell_type": "code",
   "execution_count": 2,
   "id": "821f4084",
   "metadata": {},
   "outputs": [
    {
     "name": "stdout",
     "output_type": "stream",
     "text": [
      "enter a prime no.8\n",
      "not prime\n"
     ]
    }
   ],
   "source": [
    "a=int(input(\"enter a prime no.\"))\n",
    "c=0\n",
    "for i in range(2,(a//2)+1):\n",
    "    if a%i==0:\n",
    "        c+=1\n",
    "        break\n",
    "if c>=1:\n",
    "    print(\"not prime\")\n",
    "else:\n",
    "    print(\"prime\")"
   ]
  },
  {
   "cell_type": "code",
   "execution_count": 3,
   "id": "74c85fa4",
   "metadata": {},
   "outputs": [
    {
     "name": "stdout",
     "output_type": "stream",
     "text": [
      "enter a no.67\n",
      "odd\n"
     ]
    }
   ],
   "source": [
    "a=int(input(\"enter a no.\"))\n",
    "if a%2==0:\n",
    "    print(\"even\")\n",
    "else:\n",
    "    print(\"odd\")"
   ]
  },
  {
   "cell_type": "code",
   "execution_count": null,
   "id": "4071be60",
   "metadata": {},
   "outputs": [],
   "source": []
  }
 ],
 "metadata": {
  "kernelspec": {
   "display_name": "Python 3 (ipykernel)",
   "language": "python",
   "name": "python3"
  },
  "language_info": {
   "codemirror_mode": {
    "name": "ipython",
    "version": 3
   },
   "file_extension": ".py",
   "mimetype": "text/x-python",
   "name": "python",
   "nbconvert_exporter": "python",
   "pygments_lexer": "ipython3",
   "version": "3.11.5"
  }
 },
 "nbformat": 4,
 "nbformat_minor": 5
}
