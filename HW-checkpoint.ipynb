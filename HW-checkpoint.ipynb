{
 "cells": [
  {
   "cell_type": "code",
   "execution_count": 6,
   "id": "93eefd9e",
   "metadata": {},
   "outputs": [
    {
     "name": "stdout",
     "output_type": "stream",
     "text": [
      "enter starting range no.1\n",
      "enter ending range no.100\n",
      "2\n",
      "3\n",
      "5\n",
      "7\n",
      "11\n",
      "13\n",
      "17\n",
      "19\n",
      "23\n",
      "29\n",
      "31\n",
      "37\n",
      "41\n",
      "43\n",
      "47\n",
      "53\n",
      "59\n",
      "61\n",
      "67\n",
      "71\n",
      "73\n",
      "79\n",
      "83\n",
      "89\n",
      "97\n"
     ]
    }
   ],
   "source": [
    "a=int(input(\"enter starting range no.\"))\n",
    "b=int(input(\"enter ending range no.\"))\n",
    "for k in range(a,b+1):\n",
    "    c=0\n",
    "    for i in range(2,(k//2)+1):\n",
    "        if k%i==0:\n",
    "            c+=1\n",
    "            break\n",
    "    if c==0 and k!=1:\n",
    "        print(k)\n",
    "        \n",
    "        "
   ]
  },
  {
   "cell_type": "code",
   "execution_count": 8,
   "id": "8242473b",
   "metadata": {},
   "outputs": [
    {
     "name": "stdout",
     "output_type": "stream",
     "text": [
      "enter no. 1: 1\n",
      "enter no. 2: 4\n",
      "enter no. 3: 2\n",
      "b is larger\n"
     ]
    }
   ],
   "source": [
    "a=int(input(\"enter no. 1: \"))\n",
    "b=int(input(\"enter no. 2: \"))\n",
    "c=int(input(\"enter no. 3: \"))\n",
    "if a>b and a>c:\n",
    "    print(\"a is larger\")\n",
    "elif b>a and b>c:\n",
    "    print(\"b is larger\")\n",
    "else:\n",
    "    print(\"c is larger\")"
   ]
  },
  {
   "cell_type": "code",
   "execution_count": 11,
   "id": "a3560a1b",
   "metadata": {},
   "outputs": [
    {
     "name": "stdout",
     "output_type": "stream",
     "text": [
      "enter marks in maths 23\n",
      "enter marks in phy34\n",
      "enter marks in chem34\n",
      "enter marks in cs45\n",
      "enter marks in eng56\n",
      "Total marks obtained= 170\n",
      "percentage= 34.0\n",
      "GRADE : F\n"
     ]
    }
   ],
   "source": [
    "a=int(input(\"enter marks in maths \"))\n",
    "b=int(input(\"enter marks in phy\"))\n",
    "c=int(input(\"enter marks in chem\"))\n",
    "d=int(input(\"enter marks in cs\"))\n",
    "e=int(input(\"enter marks in eng\"))\n",
    "sum=a+b+c+d+c\n",
    "print(\"Total marks obtained=\",sum)\n",
    "per=(sum/500)*100\n",
    "print(\"percentage=\",per)\n",
    "if per>90:\n",
    "    print(\"GRADE : A\")\n",
    "elif per>=80:\n",
    "    print(\"GRADE : B\")\n",
    "elif per>=70:\n",
    "    print(\"GRADE : C\")\n",
    "elif per>=60:\n",
    "    print(\"GRADE : D\")\n",
    "elif per>=40:\n",
    "    print(\"GRADE : E\")\n",
    "else:\n",
    "    print(\"GRADE : F\")"
   ]
  },
  {
   "cell_type": "code",
   "execution_count": null,
   "id": "6b31df84",
   "metadata": {},
   "outputs": [],
   "source": []
  },
  {
   "cell_type": "code",
   "execution_count": null,
   "id": "27288eae",
   "metadata": {},
   "outputs": [],
   "source": []
  }
 ],
 "metadata": {
  "kernelspec": {
   "display_name": "Python 3 (ipykernel)",
   "language": "python",
   "name": "python3"
  },
  "language_info": {
   "codemirror_mode": {
    "name": "ipython",
    "version": 3
   },
   "file_extension": ".py",
   "mimetype": "text/x-python",
   "name": "python",
   "nbconvert_exporter": "python",
   "pygments_lexer": "ipython3",
   "version": "3.11.5"
  }
 },
 "nbformat": 4,
 "nbformat_minor": 5
}
