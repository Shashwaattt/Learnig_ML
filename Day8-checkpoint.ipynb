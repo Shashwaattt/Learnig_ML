{
 "cells": [
  {
   "cell_type": "code",
   "execution_count": 33,
   "id": "4dd6578b",
   "metadata": {},
   "outputs": [
    {
     "name": "stdout",
     "output_type": "stream",
     "text": [
      "['a' '2']\n"
     ]
    }
   ],
   "source": [
    "import numpy as np\n",
    "arr=np.array([\"a\",2])\n",
    "print(arr)"
   ]
  },
  {
   "cell_type": "code",
   "execution_count": 5,
   "id": "27756467",
   "metadata": {},
   "outputs": [
    {
     "name": "stdout",
     "output_type": "stream",
     "text": [
      "[1 3]\n"
     ]
    }
   ],
   "source": [
    "arr=np.array([1,2,3,4,5])\n",
    "sliced_arr=arr[0:4:2]\n",
    "print(sliced_arr)\n"
   ]
  },
  {
   "cell_type": "code",
   "execution_count": 12,
   "id": "7a7fbc1d",
   "metadata": {},
   "outputs": [
    {
     "name": "stdout",
     "output_type": "stream",
     "text": [
      "[[ 1  2  3]\n",
      " [ 7  8  9]\n",
      " [11 12 13]]\n",
      "2\n",
      "[[1 2]\n",
      " [7 8]]\n"
     ]
    }
   ],
   "source": [
    "d2arr=np.array([[1,2,3],[7,8,9],[11,12,13]])\n",
    "print(d2arr)\n",
    "print(d2arr[0,1])#Indexing\n",
    "print(d2arr[0:2,0:2])#Slicing"
   ]
  },
  {
   "cell_type": "code",
   "execution_count": 26,
   "id": "2ebaa1be",
   "metadata": {},
   "outputs": [
    {
     "name": "stdout",
     "output_type": "stream",
     "text": [
      "[[[ 1  2  3]\n",
      "  [ 4  5  6]\n",
      "  [ 7  8  9]]\n",
      "\n",
      " [[10 11 12]\n",
      "  [13 14 15]\n",
      "  [16 17 18]]\n",
      "\n",
      " [[19 20 21]\n",
      "  [22 23 24]\n",
      "  [25 26 27]]]\n",
      "15\n",
      "[[ 4  5]\n",
      " [13 14]\n",
      " [22 23]]\n",
      "[[ 3  6  9]\n",
      " [12 15 18]\n",
      " [21 24 27]]\n"
     ]
    }
   ],
   "source": [
    "#3D Array\n",
    "arr=np.array([[[1,2,3],[4,5,6],[7,8,9]],[[10,11,12],[13,14,15],[16,17,18]],[[19,20,21],[22,23,24],[25,26,27]]])\n",
    "print(arr)\n",
    "print(arr[1,1,2])\n",
    "print(arr[0:,1,0:2])\n",
    "print(arr[0:,0:,2])"
   ]
  },
  {
   "cell_type": "code",
   "execution_count": 47,
   "id": "99b763d4",
   "metadata": {},
   "outputs": [
    {
     "name": "stdout",
     "output_type": "stream",
     "text": [
      "[ 1.  2. 45.  4.  5.  6.  7.  8.] [1. 2. 3. 4. 5. 6. 7. 8.]\n",
      "[ 1.  2. 56.  4.  5.  6.  7.  8.]\n",
      "[ 1.  2. 56.  4.  5.  6.  7.  8.]\n"
     ]
    }
   ],
   "source": [
    "arr=np.array([1,2,3,4,5,6,7,8],dtype='float64')\n",
    "arr1=arr.copy()\n",
    "arr2=np.copy(arr)\n",
    "arr_view=arr.view()\n",
    "arr1[2]=45\n",
    "arr_view[2]=56\n",
    "print(arr1,arr2)\n",
    "print(arr_view)\n",
    "print(arr)"
   ]
  },
  {
   "cell_type": "code",
   "execution_count": 44,
   "id": "d2a1ee0e",
   "metadata": {},
   "outputs": [
    {
     "name": "stdout",
     "output_type": "stream",
     "text": [
      "[  1   2   3   4 456   6   7   8]\n",
      "[1 2 3 4 5 6 7 8]\n",
      "[1 2 3 4 5 6 7 8]\n",
      "[  1   2   3   4 456   6   7   8]\n",
      "[  1   2   3   4 456   6   7   8]\n"
     ]
    }
   ],
   "source": [
    "arr=np.array([1,2,3,4,5,6,7,8])\n",
    "arr1=arr.copy()\n",
    "arr2=np.copy(arr)\n",
    "arr_view=arr.view()\n",
    "arr_view2=arr[0:]\n",
    "arr[4]=456\n",
    "print(arr,arr1,arr2,arr_view,arr_view2,sep=\"\\n\")\n"
   ]
  },
  {
   "cell_type": "code",
   "execution_count": null,
   "id": "a45374ac",
   "metadata": {},
   "outputs": [],
   "source": []
  }
 ],
 "metadata": {
  "kernelspec": {
   "display_name": "Python 3 (ipykernel)",
   "language": "python",
   "name": "python3"
  },
  "language_info": {
   "codemirror_mode": {
    "name": "ipython",
    "version": 3
   },
   "file_extension": ".py",
   "mimetype": "text/x-python",
   "name": "python",
   "nbconvert_exporter": "python",
   "pygments_lexer": "ipython3",
   "version": "3.11.5"
  }
 },
 "nbformat": 4,
 "nbformat_minor": 5
}
