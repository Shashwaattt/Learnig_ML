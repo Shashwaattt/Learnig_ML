{
 "cells": [
  {
   "cell_type": "code",
   "execution_count": 5,
   "id": "ffeb4f77",
   "metadata": {},
   "outputs": [
    {
     "name": "stdout",
     "output_type": "stream",
     "text": [
      "6\n"
     ]
    }
   ],
   "source": [
    "l=[2,3,4,5,6]\n",
    "def highest(l):\n",
    "    a=l[0]\n",
    "    for k in l:\n",
    "        if a>k:\n",
    "            pass\n",
    "        else:\n",
    "            a=k\n",
    "    print(a)\n",
    "highest(l)"
   ]
  },
  {
   "cell_type": "code",
   "execution_count": 9,
   "id": "9845fa8c",
   "metadata": {},
   "outputs": [
    {
     "data": {
      "text/plain": [
       "4"
      ]
     },
     "execution_count": 9,
     "metadata": {},
     "output_type": "execute_result"
    }
   ],
   "source": [
    "def square(*,x):\n",
    "    return x**x\n",
    "square(x=2)#in this we have to specify the argument"
   ]
  },
  {
   "cell_type": "code",
   "execution_count": 10,
   "id": "78347c5f",
   "metadata": {},
   "outputs": [
    {
     "name": "stdout",
     "output_type": "stream",
     "text": [
      "HELLO\n",
      "Everyone\n"
     ]
    }
   ],
   "source": [
    "def myfunc(*args):#\"*args\"is use for n no. of armuments\n",
    "    for arg in args:\n",
    "        print(arg)\n",
    "myfunc(\"HELLO\",\"Everyone\")#positional arguments are give\n",
    "#args stores as a tuple"
   ]
  },
  {
   "cell_type": "code",
   "execution_count": 14,
   "id": "17a722b8",
   "metadata": {},
   "outputs": [
    {
     "name": "stdout",
     "output_type": "stream",
     "text": [
      "His last name is Shelby\n"
     ]
    }
   ],
   "source": [
    "def myfunc(**kwargs):\n",
    "    print(\"His last name is \"+kwargs[\"lname\"])\n",
    "myfunc(fname=\"Thomas\",lname=\"Shelby\")\n",
    "#it stores in dictionary form"
   ]
  },
  {
   "cell_type": "code",
   "execution_count": 20,
   "id": "1b465d0d",
   "metadata": {},
   "outputs": [
    {
     "name": "stdout",
     "output_type": "stream",
     "text": [
      "enter a no.8\n",
      "no is = 8\n"
     ]
    }
   ],
   "source": [
    "while True:\n",
    "    try:\n",
    "        n=int(input(\"enter a no.\"))\n",
    "        break\n",
    "    except ValueError:\n",
    "        print(\"n is not an integer\")\n",
    "print(\"no is =\",n)"
   ]
  },
  {
   "cell_type": "code",
   "execution_count": null,
   "id": "c5b38ad8",
   "metadata": {},
   "outputs": [],
   "source": []
  }
 ],
 "metadata": {
  "kernelspec": {
   "display_name": "Python 3 (ipykernel)",
   "language": "python",
   "name": "python3"
  },
  "language_info": {
   "codemirror_mode": {
    "name": "ipython",
    "version": 3
   },
   "file_extension": ".py",
   "mimetype": "text/x-python",
   "name": "python",
   "nbconvert_exporter": "python",
   "pygments_lexer": "ipython3",
   "version": "3.11.5"
  }
 },
 "nbformat": 4,
 "nbformat_minor": 5
}
